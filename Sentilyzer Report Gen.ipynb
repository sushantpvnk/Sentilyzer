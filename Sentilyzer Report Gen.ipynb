{
 "cells": [
  {
   "cell_type": "code",
   "execution_count": 1,
   "id": "ff47e635",
   "metadata": {},
   "outputs": [],
   "source": [
    "import nltk\n",
    "import pandas as pd\n",
    "from nltk.sentiment import SentimentIntensityAnalyzer\n",
    "from nltk.tokenize import word_tokenize\n",
    "import json\n",
    "import numpy as np\n",
    "import matplotlib as mpl\n",
    "import matplotlib.pyplot as plt"
   ]
  },
  {
   "cell_type": "markdown",
   "id": "ac479ffe",
   "metadata": {},
   "source": [
    "# Video Details"
   ]
  },
  {
   "cell_type": "code",
   "execution_count": 2,
   "id": "88eb5d88",
   "metadata": {},
   "outputs": [
    {
     "name": "stdout",
     "output_type": "stream",
     "text": [
      "title: Hopes grow of deal to free hostages in Gaza -| BBC News\n",
      "channel_title: BBC News\n",
      "upload_date: 2023-11-19T22:55:36Z\n",
      "view_count: 114021\n",
      "like_count: 982\n",
      "comment_count: 904\n"
     ]
    }
   ],
   "source": [
    "file_path1 = r\"C:\\Users\\SMART\\Downloads\\video_details.json\"\n",
    "\n",
    "with open(file_path1, 'r') as json_file:\n",
    "    video_details = json.load(json_file)\n",
    "\n",
    "for key, value in video_details.items():\n",
    "        print(f\"{key}: {value}\")"
   ]
  },
  {
   "cell_type": "markdown",
   "id": "8be2ec78",
   "metadata": {},
   "source": [
    "# Extracted Comments"
   ]
  },
  {
   "cell_type": "code",
   "execution_count": 3,
   "id": "c61e03ae",
   "metadata": {},
   "outputs": [
    {
     "data": {
      "text/html": [
       "<div>\n",
       "<style scoped>\n",
       "    .dataframe tbody tr th:only-of-type {\n",
       "        vertical-align: middle;\n",
       "    }\n",
       "\n",
       "    .dataframe tbody tr th {\n",
       "        vertical-align: top;\n",
       "    }\n",
       "\n",
       "    .dataframe thead th {\n",
       "        text-align: right;\n",
       "    }\n",
       "</style>\n",
       "<table border=\"1\" class=\"dataframe\">\n",
       "  <thead>\n",
       "    <tr style=\"text-align: right;\">\n",
       "      <th></th>\n",
       "      <th>Date</th>\n",
       "      <th>Time</th>\n",
       "      <th>Author</th>\n",
       "      <th>Comment</th>\n",
       "      <th>Likes</th>\n",
       "    </tr>\n",
       "  </thead>\n",
       "  <tbody>\n",
       "    <tr>\n",
       "      <th>0</th>\n",
       "      <td>2023-11-24</td>\n",
       "      <td>04:53:05</td>\n",
       "      <td>max Shimul★</td>\n",
       "      <td>This hole is rishi sunak's ass black hole</td>\n",
       "      <td>0</td>\n",
       "    </tr>\n",
       "    <tr>\n",
       "      <th>1</th>\n",
       "      <td>2023-11-23</td>\n",
       "      <td>22:17:18</td>\n",
       "      <td>MAKHAN</td>\n",
       "      <td>That land belong to Palestinians. It never hav...</td>\n",
       "      <td>0</td>\n",
       "    </tr>\n",
       "    <tr>\n",
       "      <th>2</th>\n",
       "      <td>2023-11-23</td>\n",
       "      <td>20:03:50</td>\n",
       "      <td>Shakeel Khan</td>\n",
       "      <td>Some one is gona have to foot the bill when th...</td>\n",
       "      <td>0</td>\n",
       "    </tr>\n",
       "    <tr>\n",
       "      <th>3</th>\n",
       "      <td>2023-11-23</td>\n",
       "      <td>18:26:24</td>\n",
       "      <td>A Fa</td>\n",
       "      <td>So The Palestinians voted in Hamas in free ele...</td>\n",
       "      <td>0</td>\n",
       "    </tr>\n",
       "    <tr>\n",
       "      <th>4</th>\n",
       "      <td>2023-11-23</td>\n",
       "      <td>17:22:45</td>\n",
       "      <td>Raymond</td>\n",
       "      <td>@BBC NEWS MORE TUNNELS FOR YOU FROM AL SHIFA H...</td>\n",
       "      <td>0</td>\n",
       "    </tr>\n",
       "  </tbody>\n",
       "</table>\n",
       "</div>"
      ],
      "text/plain": [
       "         Date      Time        Author  \\\n",
       "0  2023-11-24  04:53:05   max Shimul★   \n",
       "1  2023-11-23  22:17:18        MAKHAN   \n",
       "2  2023-11-23  20:03:50  Shakeel Khan   \n",
       "3  2023-11-23  18:26:24          A Fa   \n",
       "4  2023-11-23  17:22:45       Raymond   \n",
       "\n",
       "                                             Comment  Likes  \n",
       "0          This hole is rishi sunak's ass black hole      0  \n",
       "1  That land belong to Palestinians. It never hav...      0  \n",
       "2  Some one is gona have to foot the bill when th...      0  \n",
       "3  So The Palestinians voted in Hamas in free ele...      0  \n",
       "4  @BBC NEWS MORE TUNNELS FOR YOU FROM AL SHIFA H...      0  "
      ]
     },
     "execution_count": 3,
     "metadata": {},
     "output_type": "execute_result"
    }
   ],
   "source": [
    "file_path2 = r\"C:\\Users\\SMART\\Downloads\\Extracted_comments.csv\"\n",
    "df = pd.read_csv(file_path2)\n",
    "df.head()"
   ]
  },
  {
   "cell_type": "code",
   "execution_count": 4,
   "id": "ac087ba9",
   "metadata": {},
   "outputs": [
    {
     "name": "stdout",
     "output_type": "stream",
     "text": [
      "521\n"
     ]
    }
   ],
   "source": [
    "extracted_count = len(df)\n",
    "print(extracted_count)"
   ]
  },
  {
   "cell_type": "markdown",
   "id": "153db790",
   "metadata": {},
   "source": [
    "# Sentiment Analysing Function"
   ]
  },
  {
   "cell_type": "markdown",
   "id": "89acc41c",
   "metadata": {},
   "source": [
    "##### Positive: Score >= 0.2\n",
    "##### Neutral: 0.2 > Score > -0.2\n",
    "##### Negative: -0.2 >= Score"
   ]
  },
  {
   "cell_type": "code",
   "execution_count": 5,
   "id": "9975a26f",
   "metadata": {},
   "outputs": [],
   "source": [
    "sia = SentimentIntensityAnalyzer()\n",
    "\n",
    "def analyze_sentiment(comment):\n",
    "    sentiment_score = sia.polarity_scores(comment)['compound']\n",
    "    \n",
    "    if sentiment_score > 0.2:\n",
    "        sentiment_label = 'Positive'  \n",
    "    elif -0.2 < sentiment_score < 0.2:\n",
    "        sentiment_label = 'Neutral'\n",
    "    else:\n",
    "        sentiment_label = 'Negative'\n",
    "    \n",
    "    return sentiment_label, sentiment_score"
   ]
  },
  {
   "cell_type": "markdown",
   "id": "91d5ab96",
   "metadata": {},
   "source": [
    "## Applying sentiments to the extracted comments"
   ]
  },
  {
   "cell_type": "code",
   "execution_count": 6,
   "id": "5c86ebf5",
   "metadata": {},
   "outputs": [
    {
     "data": {
      "text/html": [
       "<div>\n",
       "<style scoped>\n",
       "    .dataframe tbody tr th:only-of-type {\n",
       "        vertical-align: middle;\n",
       "    }\n",
       "\n",
       "    .dataframe tbody tr th {\n",
       "        vertical-align: top;\n",
       "    }\n",
       "\n",
       "    .dataframe thead th {\n",
       "        text-align: right;\n",
       "    }\n",
       "</style>\n",
       "<table border=\"1\" class=\"dataframe\">\n",
       "  <thead>\n",
       "    <tr style=\"text-align: right;\">\n",
       "      <th></th>\n",
       "      <th>Date</th>\n",
       "      <th>Time</th>\n",
       "      <th>Author</th>\n",
       "      <th>Comment</th>\n",
       "      <th>Likes</th>\n",
       "      <th>Sentiment</th>\n",
       "      <th>Sentiment Label</th>\n",
       "      <th>Sentiment Score</th>\n",
       "    </tr>\n",
       "  </thead>\n",
       "  <tbody>\n",
       "    <tr>\n",
       "      <th>0</th>\n",
       "      <td>2023-11-24</td>\n",
       "      <td>04:53:05</td>\n",
       "      <td>max Shimul★</td>\n",
       "      <td>This hole is rishi sunak's ass black hole</td>\n",
       "      <td>0</td>\n",
       "      <td>(Negative, -0.5423)</td>\n",
       "      <td>Negative</td>\n",
       "      <td>-0.5423</td>\n",
       "    </tr>\n",
       "    <tr>\n",
       "      <th>1</th>\n",
       "      <td>2023-11-23</td>\n",
       "      <td>22:17:18</td>\n",
       "      <td>MAKHAN</td>\n",
       "      <td>That land belong to Palestinians. It never hav...</td>\n",
       "      <td>0</td>\n",
       "      <td>(Positive, 0.7506)</td>\n",
       "      <td>Positive</td>\n",
       "      <td>0.7506</td>\n",
       "    </tr>\n",
       "    <tr>\n",
       "      <th>2</th>\n",
       "      <td>2023-11-23</td>\n",
       "      <td>20:03:50</td>\n",
       "      <td>Shakeel Khan</td>\n",
       "      <td>Some one is gona have to foot the bill when th...</td>\n",
       "      <td>0</td>\n",
       "      <td>(Neutral, 0.0)</td>\n",
       "      <td>Neutral</td>\n",
       "      <td>0.0000</td>\n",
       "    </tr>\n",
       "    <tr>\n",
       "      <th>3</th>\n",
       "      <td>2023-11-23</td>\n",
       "      <td>18:26:24</td>\n",
       "      <td>A Fa</td>\n",
       "      <td>So The Palestinians voted in Hamas in free ele...</td>\n",
       "      <td>0</td>\n",
       "      <td>(Positive, 0.7901)</td>\n",
       "      <td>Positive</td>\n",
       "      <td>0.7901</td>\n",
       "    </tr>\n",
       "    <tr>\n",
       "      <th>4</th>\n",
       "      <td>2023-11-23</td>\n",
       "      <td>17:22:45</td>\n",
       "      <td>Raymond</td>\n",
       "      <td>@BBC NEWS MORE TUNNELS FOR YOU FROM AL SHIFA H...</td>\n",
       "      <td>0</td>\n",
       "      <td>(Neutral, 0.0)</td>\n",
       "      <td>Neutral</td>\n",
       "      <td>0.0000</td>\n",
       "    </tr>\n",
       "  </tbody>\n",
       "</table>\n",
       "</div>"
      ],
      "text/plain": [
       "         Date      Time        Author  \\\n",
       "0  2023-11-24  04:53:05   max Shimul★   \n",
       "1  2023-11-23  22:17:18        MAKHAN   \n",
       "2  2023-11-23  20:03:50  Shakeel Khan   \n",
       "3  2023-11-23  18:26:24          A Fa   \n",
       "4  2023-11-23  17:22:45       Raymond   \n",
       "\n",
       "                                             Comment  Likes  \\\n",
       "0          This hole is rishi sunak's ass black hole      0   \n",
       "1  That land belong to Palestinians. It never hav...      0   \n",
       "2  Some one is gona have to foot the bill when th...      0   \n",
       "3  So The Palestinians voted in Hamas in free ele...      0   \n",
       "4  @BBC NEWS MORE TUNNELS FOR YOU FROM AL SHIFA H...      0   \n",
       "\n",
       "             Sentiment Sentiment Label  Sentiment Score  \n",
       "0  (Negative, -0.5423)        Negative          -0.5423  \n",
       "1   (Positive, 0.7506)        Positive           0.7506  \n",
       "2       (Neutral, 0.0)         Neutral           0.0000  \n",
       "3   (Positive, 0.7901)        Positive           0.7901  \n",
       "4       (Neutral, 0.0)         Neutral           0.0000  "
      ]
     },
     "execution_count": 6,
     "metadata": {},
     "output_type": "execute_result"
    }
   ],
   "source": [
    "df['Sentiment'] = df['Comment'].apply(analyze_sentiment)\n",
    "\n",
    "df[['Sentiment Label', 'Sentiment Score']] = pd.DataFrame(df['Sentiment'].tolist(), index=df.index)\n",
    "df.head()"
   ]
  },
  {
   "cell_type": "code",
   "execution_count": 7,
   "id": "05ab8a73",
   "metadata": {},
   "outputs": [
    {
     "data": {
      "text/html": [
       "<div>\n",
       "<style scoped>\n",
       "    .dataframe tbody tr th:only-of-type {\n",
       "        vertical-align: middle;\n",
       "    }\n",
       "\n",
       "    .dataframe tbody tr th {\n",
       "        vertical-align: top;\n",
       "    }\n",
       "\n",
       "    .dataframe thead th {\n",
       "        text-align: right;\n",
       "    }\n",
       "</style>\n",
       "<table border=\"1\" class=\"dataframe\">\n",
       "  <thead>\n",
       "    <tr style=\"text-align: right;\">\n",
       "      <th></th>\n",
       "      <th>Date</th>\n",
       "      <th>Author</th>\n",
       "      <th>Comment</th>\n",
       "      <th>Likes</th>\n",
       "      <th>Sentiment Label</th>\n",
       "      <th>Sentiment Score</th>\n",
       "    </tr>\n",
       "  </thead>\n",
       "  <tbody>\n",
       "    <tr>\n",
       "      <th>0</th>\n",
       "      <td>2023-11-24</td>\n",
       "      <td>max Shimul★</td>\n",
       "      <td>This hole is rishi sunak's ass black hole</td>\n",
       "      <td>0</td>\n",
       "      <td>Negative</td>\n",
       "      <td>-0.5423</td>\n",
       "    </tr>\n",
       "    <tr>\n",
       "      <th>1</th>\n",
       "      <td>2023-11-23</td>\n",
       "      <td>MAKHAN</td>\n",
       "      <td>That land belong to Palestinians. It never hav...</td>\n",
       "      <td>0</td>\n",
       "      <td>Positive</td>\n",
       "      <td>0.7506</td>\n",
       "    </tr>\n",
       "    <tr>\n",
       "      <th>2</th>\n",
       "      <td>2023-11-23</td>\n",
       "      <td>Shakeel Khan</td>\n",
       "      <td>Some one is gona have to foot the bill when th...</td>\n",
       "      <td>0</td>\n",
       "      <td>Neutral</td>\n",
       "      <td>0.0000</td>\n",
       "    </tr>\n",
       "    <tr>\n",
       "      <th>3</th>\n",
       "      <td>2023-11-23</td>\n",
       "      <td>A Fa</td>\n",
       "      <td>So The Palestinians voted in Hamas in free ele...</td>\n",
       "      <td>0</td>\n",
       "      <td>Positive</td>\n",
       "      <td>0.7901</td>\n",
       "    </tr>\n",
       "    <tr>\n",
       "      <th>4</th>\n",
       "      <td>2023-11-23</td>\n",
       "      <td>Raymond</td>\n",
       "      <td>@BBC NEWS MORE TUNNELS FOR YOU FROM AL SHIFA H...</td>\n",
       "      <td>0</td>\n",
       "      <td>Neutral</td>\n",
       "      <td>0.0000</td>\n",
       "    </tr>\n",
       "  </tbody>\n",
       "</table>\n",
       "</div>"
      ],
      "text/plain": [
       "         Date        Author  \\\n",
       "0  2023-11-24   max Shimul★   \n",
       "1  2023-11-23        MAKHAN   \n",
       "2  2023-11-23  Shakeel Khan   \n",
       "3  2023-11-23          A Fa   \n",
       "4  2023-11-23       Raymond   \n",
       "\n",
       "                                             Comment  Likes Sentiment Label  \\\n",
       "0          This hole is rishi sunak's ass black hole      0        Negative   \n",
       "1  That land belong to Palestinians. It never hav...      0        Positive   \n",
       "2  Some one is gona have to foot the bill when th...      0         Neutral   \n",
       "3  So The Palestinians voted in Hamas in free ele...      0        Positive   \n",
       "4  @BBC NEWS MORE TUNNELS FOR YOU FROM AL SHIFA H...      0         Neutral   \n",
       "\n",
       "   Sentiment Score  \n",
       "0          -0.5423  \n",
       "1           0.7506  \n",
       "2           0.0000  \n",
       "3           0.7901  \n",
       "4           0.0000  "
      ]
     },
     "execution_count": 7,
     "metadata": {},
     "output_type": "execute_result"
    }
   ],
   "source": [
    "req_columns = [\"Date\", \"Author\", \"Comment\", \"Likes\", \"Sentiment Label\", \"Sentiment Score\"]\n",
    "result_df = df[req_columns]\n",
    "\n",
    "result_df.head()"
   ]
  },
  {
   "cell_type": "code",
   "execution_count": 8,
   "id": "a6732737",
   "metadata": {},
   "outputs": [],
   "source": [
    "result_df.to_csv('Sentiment Report.csv', index=False)"
   ]
  },
  {
   "cell_type": "markdown",
   "id": "62b43774",
   "metadata": {},
   "source": [
    "# Data for Report"
   ]
  },
  {
   "cell_type": "code",
   "execution_count": 9,
   "id": "5ab41483",
   "metadata": {},
   "outputs": [],
   "source": [
    "file_path3 = \"Sentiment Report.csv\"\n",
    "df = pd.read_csv(file_path3)"
   ]
  },
  {
   "cell_type": "code",
   "execution_count": 10,
   "id": "c54eff0d",
   "metadata": {},
   "outputs": [],
   "source": [
    "Labels_names = ['Positive', 'Neutral', 'Negative']\n",
    "Labels_colors = {'Positive': '#00b300', 'Neutral': '#d8d8d8', 'Negative': '#b30000'}"
   ]
  },
  {
   "cell_type": "code",
   "execution_count": 11,
   "id": "b07d9647",
   "metadata": {},
   "outputs": [],
   "source": [
    "df_pos = df[df['Sentiment Label'] == 'Positive']\n",
    "df_ntl = df[df['Sentiment Label'] == 'Neutral']\n",
    "df_neg = df[df['Sentiment Label'] == 'Negative']\n",
    "\n",
    "df_pos_sorted = df_pos.sort_values(by='Sentiment Score', ascending=False)\n",
    "df_ntl_sorted = df_ntl.sort_values(by='Sentiment Score')\n",
    "df_neg_sorted = df_neg.sort_values(by='Sentiment Score')\n",
    "\n",
    "df_pos_likes_sorted = df_pos.sort_values(by='Likes', ascending=False)\n",
    "df_ntl_likes_sorted = df_ntl.sort_values(by='Likes', ascending=False)\n",
    "df_neg_likes_sorted = df_neg.sort_values(by='Likes', ascending=False)"
   ]
  },
  {
   "cell_type": "code",
   "execution_count": 12,
   "id": "fc11d259",
   "metadata": {},
   "outputs": [
    {
     "name": "stdout",
     "output_type": "stream",
     "text": [
      "{'Positive': 141, 'Neutral': 131, 'Negative': 249}\n"
     ]
    }
   ],
   "source": [
    "DIC1 = dict(df['Sentiment Label'].value_counts())\n",
    "dic1 = {}\n",
    "for l in Labels_names:\n",
    "    dic1[l] = DIC1[l]\n",
    "print(dic1)"
   ]
  },
  {
   "cell_type": "markdown",
   "id": "5e2d9599",
   "metadata": {},
   "source": [
    "## Top 5 comments for each sentiment, on the basis of sentiment score"
   ]
  },
  {
   "cell_type": "code",
   "execution_count": 13,
   "id": "73a130e2",
   "metadata": {
    "scrolled": true
   },
   "outputs": [
    {
     "data": {
      "text/html": [
       "<div>\n",
       "<style scoped>\n",
       "    .dataframe tbody tr th:only-of-type {\n",
       "        vertical-align: middle;\n",
       "    }\n",
       "\n",
       "    .dataframe tbody tr th {\n",
       "        vertical-align: top;\n",
       "    }\n",
       "\n",
       "    .dataframe thead th {\n",
       "        text-align: right;\n",
       "    }\n",
       "</style>\n",
       "<table border=\"1\" class=\"dataframe\">\n",
       "  <thead>\n",
       "    <tr style=\"text-align: right;\">\n",
       "      <th></th>\n",
       "      <th>Date</th>\n",
       "      <th>Author</th>\n",
       "      <th>Comment</th>\n",
       "      <th>Likes</th>\n",
       "      <th>Sentiment Label</th>\n",
       "      <th>Sentiment Score</th>\n",
       "    </tr>\n",
       "  </thead>\n",
       "  <tbody>\n",
       "    <tr>\n",
       "      <th>119</th>\n",
       "      <td>2023-11-20</td>\n",
       "      <td>olive tree</td>\n",
       "      <td>Peace be with ❤️\\n\\nThe Word of the LORD ALMIG...</td>\n",
       "      <td>0</td>\n",
       "      <td>Positive</td>\n",
       "      <td>0.9512</td>\n",
       "    </tr>\n",
       "    <tr>\n",
       "      <th>138</th>\n",
       "      <td>2023-11-20</td>\n",
       "      <td>Jonathan T. Modesto</td>\n",
       "      <td>(Daniel 9:27 was fulfilled on August 13 2023 a...</td>\n",
       "      <td>0</td>\n",
       "      <td>Positive</td>\n",
       "      <td>0.9253</td>\n",
       "    </tr>\n",
       "    <tr>\n",
       "      <th>286</th>\n",
       "      <td>2023-11-20</td>\n",
       "      <td>The Fastfood Show</td>\n",
       "      <td>Strongly hope that both parties negotiate for ...</td>\n",
       "      <td>6</td>\n",
       "      <td>Positive</td>\n",
       "      <td>0.9238</td>\n",
       "    </tr>\n",
       "    <tr>\n",
       "      <th>361</th>\n",
       "      <td>2023-11-20</td>\n",
       "      <td>Let it Be, Summer</td>\n",
       "      <td>Sending strength to the ladies to carry on Viv...</td>\n",
       "      <td>2</td>\n",
       "      <td>Positive</td>\n",
       "      <td>0.9186</td>\n",
       "    </tr>\n",
       "    <tr>\n",
       "      <th>289</th>\n",
       "      <td>2023-11-20</td>\n",
       "      <td>Ria Videna</td>\n",
       "      <td>Blessed is the nation whose God is the Lord. R...</td>\n",
       "      <td>1</td>\n",
       "      <td>Positive</td>\n",
       "      <td>0.9040</td>\n",
       "    </tr>\n",
       "  </tbody>\n",
       "</table>\n",
       "</div>"
      ],
      "text/plain": [
       "           Date               Author  \\\n",
       "119  2023-11-20           olive tree   \n",
       "138  2023-11-20  Jonathan T. Modesto   \n",
       "286  2023-11-20    The Fastfood Show   \n",
       "361  2023-11-20    Let it Be, Summer   \n",
       "289  2023-11-20           Ria Videna   \n",
       "\n",
       "                                               Comment  Likes Sentiment Label  \\\n",
       "119  Peace be with ❤️\\n\\nThe Word of the LORD ALMIG...      0        Positive   \n",
       "138  (Daniel 9:27 was fulfilled on August 13 2023 a...      0        Positive   \n",
       "286  Strongly hope that both parties negotiate for ...      6        Positive   \n",
       "361  Sending strength to the ladies to carry on Viv...      2        Positive   \n",
       "289  Blessed is the nation whose God is the Lord. R...      1        Positive   \n",
       "\n",
       "     Sentiment Score  \n",
       "119           0.9512  \n",
       "138           0.9253  \n",
       "286           0.9238  \n",
       "361           0.9186  \n",
       "289           0.9040  "
      ]
     },
     "execution_count": 13,
     "metadata": {},
     "output_type": "execute_result"
    }
   ],
   "source": [
    "df_pos_sorted.head()"
   ]
  },
  {
   "cell_type": "code",
   "execution_count": 14,
   "id": "0bee5228",
   "metadata": {},
   "outputs": [
    {
     "data": {
      "text/html": [
       "<div>\n",
       "<style scoped>\n",
       "    .dataframe tbody tr th:only-of-type {\n",
       "        vertical-align: middle;\n",
       "    }\n",
       "\n",
       "    .dataframe tbody tr th {\n",
       "        vertical-align: top;\n",
       "    }\n",
       "\n",
       "    .dataframe thead th {\n",
       "        text-align: right;\n",
       "    }\n",
       "</style>\n",
       "<table border=\"1\" class=\"dataframe\">\n",
       "  <thead>\n",
       "    <tr style=\"text-align: right;\">\n",
       "      <th></th>\n",
       "      <th>Date</th>\n",
       "      <th>Author</th>\n",
       "      <th>Comment</th>\n",
       "      <th>Likes</th>\n",
       "      <th>Sentiment Label</th>\n",
       "      <th>Sentiment Score</th>\n",
       "    </tr>\n",
       "  </thead>\n",
       "  <tbody>\n",
       "    <tr>\n",
       "      <th>242</th>\n",
       "      <td>2023-11-20</td>\n",
       "      <td>Dana Manasherob</td>\n",
       "      <td>https://www.youtube.com/watch?v=xmDMdC6oGkg</td>\n",
       "      <td>0</td>\n",
       "      <td>Neutral</td>\n",
       "      <td>0.0</td>\n",
       "    </tr>\n",
       "    <tr>\n",
       "      <th>144</th>\n",
       "      <td>2023-11-20</td>\n",
       "      <td>AAR BOY</td>\n",
       "      <td>THE MOST HYPOCRISY IN THE WORLD IS BBC AND THE...</td>\n",
       "      <td>1</td>\n",
       "      <td>Neutral</td>\n",
       "      <td>0.0</td>\n",
       "    </tr>\n",
       "    <tr>\n",
       "      <th>142</th>\n",
       "      <td>2023-11-20</td>\n",
       "      <td>AJR22</td>\n",
       "      <td>So the BBC did know there was hostages in Gaza...</td>\n",
       "      <td>0</td>\n",
       "      <td>Neutral</td>\n",
       "      <td>0.0</td>\n",
       "    </tr>\n",
       "    <tr>\n",
       "      <th>129</th>\n",
       "      <td>2023-11-20</td>\n",
       "      <td>Robert Woods</td>\n",
       "      <td>DEFUND THE BBC</td>\n",
       "      <td>1</td>\n",
       "      <td>Neutral</td>\n",
       "      <td>0.0</td>\n",
       "    </tr>\n",
       "    <tr>\n",
       "      <th>128</th>\n",
       "      <td>2023-11-20</td>\n",
       "      <td>BJ</td>\n",
       "      <td>🇮🇱🇮🇱🇮🇱🇮🇱🇮🇱❤❤❤💪</td>\n",
       "      <td>0</td>\n",
       "      <td>Neutral</td>\n",
       "      <td>0.0</td>\n",
       "    </tr>\n",
       "  </tbody>\n",
       "</table>\n",
       "</div>"
      ],
      "text/plain": [
       "           Date           Author  \\\n",
       "242  2023-11-20  Dana Manasherob   \n",
       "144  2023-11-20          AAR BOY   \n",
       "142  2023-11-20            AJR22   \n",
       "129  2023-11-20     Robert Woods   \n",
       "128  2023-11-20               BJ   \n",
       "\n",
       "                                               Comment  Likes Sentiment Label  \\\n",
       "242        https://www.youtube.com/watch?v=xmDMdC6oGkg      0         Neutral   \n",
       "144  THE MOST HYPOCRISY IN THE WORLD IS BBC AND THE...      1         Neutral   \n",
       "142  So the BBC did know there was hostages in Gaza...      0         Neutral   \n",
       "129                                     DEFUND THE BBC      1         Neutral   \n",
       "128                                     🇮🇱🇮🇱🇮🇱🇮🇱🇮🇱❤❤❤💪      0         Neutral   \n",
       "\n",
       "     Sentiment Score  \n",
       "242              0.0  \n",
       "144              0.0  \n",
       "142              0.0  \n",
       "129              0.0  \n",
       "128              0.0  "
      ]
     },
     "execution_count": 14,
     "metadata": {},
     "output_type": "execute_result"
    }
   ],
   "source": [
    "total_rows = len(df_ntl_sorted)\n",
    "middle_start = (total_rows // 2) - 2\n",
    "middle_end = (total_rows // 2) + 3\n",
    "\n",
    "df_ntl_sorted.iloc[middle_start:middle_end]"
   ]
  },
  {
   "cell_type": "code",
   "execution_count": 15,
   "id": "18f2c4fc",
   "metadata": {},
   "outputs": [
    {
     "data": {
      "text/html": [
       "<div>\n",
       "<style scoped>\n",
       "    .dataframe tbody tr th:only-of-type {\n",
       "        vertical-align: middle;\n",
       "    }\n",
       "\n",
       "    .dataframe tbody tr th {\n",
       "        vertical-align: top;\n",
       "    }\n",
       "\n",
       "    .dataframe thead th {\n",
       "        text-align: right;\n",
       "    }\n",
       "</style>\n",
       "<table border=\"1\" class=\"dataframe\">\n",
       "  <thead>\n",
       "    <tr style=\"text-align: right;\">\n",
       "      <th></th>\n",
       "      <th>Date</th>\n",
       "      <th>Author</th>\n",
       "      <th>Comment</th>\n",
       "      <th>Likes</th>\n",
       "      <th>Sentiment Label</th>\n",
       "      <th>Sentiment Score</th>\n",
       "    </tr>\n",
       "  </thead>\n",
       "  <tbody>\n",
       "    <tr>\n",
       "      <th>265</th>\n",
       "      <td>2023-11-20</td>\n",
       "      <td>주명화</td>\n",
       "      <td>My emotions for those victims have become dull...</td>\n",
       "      <td>1</td>\n",
       "      <td>Negative</td>\n",
       "      <td>-0.9949</td>\n",
       "    </tr>\n",
       "    <tr>\n",
       "      <th>440</th>\n",
       "      <td>2023-11-19</td>\n",
       "      <td>Jousung Kim</td>\n",
       "      <td>[Why Koreans?-Part 2] Why are Koreans so rude?...</td>\n",
       "      <td>1</td>\n",
       "      <td>Negative</td>\n",
       "      <td>-0.9939</td>\n",
       "    </tr>\n",
       "    <tr>\n",
       "      <th>17</th>\n",
       "      <td>2023-11-21</td>\n",
       "      <td>Ben Robinsonshhh</td>\n",
       "      <td>Hostage lol Ur government Ur UK terrorist gove...</td>\n",
       "      <td>0</td>\n",
       "      <td>Negative</td>\n",
       "      <td>-0.9862</td>\n",
       "    </tr>\n",
       "    <tr>\n",
       "      <th>314</th>\n",
       "      <td>2023-11-20</td>\n",
       "      <td>the 3 gaming Nerds</td>\n",
       "      <td>The shit breaks my heart bro. And im pro Israe...</td>\n",
       "      <td>0</td>\n",
       "      <td>Negative</td>\n",
       "      <td>-0.9826</td>\n",
       "    </tr>\n",
       "    <tr>\n",
       "      <th>231</th>\n",
       "      <td>2023-11-20</td>\n",
       "      <td>Elusa Saint Pierre</td>\n",
       "      <td>BBC news is very bias by only reporting the si...</td>\n",
       "      <td>0</td>\n",
       "      <td>Negative</td>\n",
       "      <td>-0.9814</td>\n",
       "    </tr>\n",
       "  </tbody>\n",
       "</table>\n",
       "</div>"
      ],
      "text/plain": [
       "           Date              Author  \\\n",
       "265  2023-11-20                 주명화   \n",
       "440  2023-11-19         Jousung Kim   \n",
       "17   2023-11-21    Ben Robinsonshhh   \n",
       "314  2023-11-20  the 3 gaming Nerds   \n",
       "231  2023-11-20  Elusa Saint Pierre   \n",
       "\n",
       "                                               Comment  Likes Sentiment Label  \\\n",
       "265  My emotions for those victims have become dull...      1        Negative   \n",
       "440  [Why Koreans?-Part 2] Why are Koreans so rude?...      1        Negative   \n",
       "17   Hostage lol Ur government Ur UK terrorist gove...      0        Negative   \n",
       "314  The shit breaks my heart bro. And im pro Israe...      0        Negative   \n",
       "231  BBC news is very bias by only reporting the si...      0        Negative   \n",
       "\n",
       "     Sentiment Score  \n",
       "265          -0.9949  \n",
       "440          -0.9939  \n",
       "17           -0.9862  \n",
       "314          -0.9826  \n",
       "231          -0.9814  "
      ]
     },
     "execution_count": 15,
     "metadata": {},
     "output_type": "execute_result"
    }
   ],
   "source": [
    "df_neg_sorted.head()"
   ]
  },
  {
   "cell_type": "markdown",
   "id": "010f2ce0",
   "metadata": {},
   "source": [
    "## Plotting the sentiments frequency"
   ]
  },
  {
   "cell_type": "code",
   "execution_count": 16,
   "id": "a8d5f7bc",
   "metadata": {},
   "outputs": [
    {
     "data": {
      "image/png": "[encoded data removed]",
      "text/plain": [
       "<Figure size 300x400 with 1 Axes>"
      ]
     },
     "metadata": {},
     "output_type": "display_data"
    }
   ],
   "source": [
    "plt.figure(figsize=(3,4))\n",
    "plt.bar(dic1.keys(), dic1.values())\n",
    "plt.title(\"Sentiments labels plot\")\n",
    "plt.xlabel(\"Label\")\n",
    "plt.ylabel(\"Frequency\")\n",
    "\n",
    "plt.savefig('Sentiments labels plot.png')\n",
    "plt.show()"
   ]
  },
  {
   "cell_type": "code",
   "execution_count": 17,
   "id": "da693646",
   "metadata": {},
   "outputs": [
    {
     "data": {
      "image/png": "[encoded data removed]",
      "text/plain": [
       "<Figure size 800x400 with 1 Axes>"
      ]
     },
     "metadata": {},
     "output_type": "display_data"
    }
   ],
   "source": [
    "plt.figure(figsize=(8,4))\n",
    "cnts, values, bars = plt.hist(df['Sentiment Score'], bins=10)\n",
    "\n",
    "for i, (cnt, value, bar) in enumerate(zip(cnts, values, bars)):\n",
    "    if value>=0.2:\n",
    "        bar.set_facecolor(Labels_colors['Positive'])\n",
    "    elif 0.2>value>-0.2:\n",
    "        bar.set_facecolor(Labels_colors['Neutral'])\n",
    "    else:\n",
    "        bar.set_facecolor(Labels_colors['Negative'])\n",
    "\n",
    "plt.title(\"Sentiments score plot\")\n",
    "plt.xlabel(\"Score\")\n",
    "plt.ylabel(\"Frequency\")\n",
    "\n",
    "plt.savefig('Sentiments score plot.png')\n",
    "plt.show()"
   ]
  },
  {
   "cell_type": "code",
   "execution_count": 18,
   "id": "9889a0ce",
   "metadata": {},
   "outputs": [
    {
     "name": "stdout",
     "output_type": "stream",
     "text": [
      "          Date Sentiment Label  Frequency\n",
      "0   2023-11-19        Negative         31\n",
      "1   2023-11-19         Neutral         32\n",
      "2   2023-11-19        Positive         45\n",
      "3   2023-11-20        Negative        200\n",
      "4   2023-11-20         Neutral         90\n",
      "5   2023-11-20        Positive         87\n",
      "6   2023-11-21        Negative         13\n",
      "7   2023-11-21         Neutral          4\n",
      "8   2023-11-21        Positive          7\n",
      "9   2023-11-22        Negative          1\n",
      "10  2023-11-23        Negative          3\n",
      "11  2023-11-23         Neutral          5\n",
      "12  2023-11-23        Positive          2\n",
      "13  2023-11-24        Negative          1\n",
      "Sentiment Label  Negative  Neutral  Positive\n",
      "Date                                        \n",
      "2023-11-19           31.0     32.0      45.0\n",
      "2023-11-20          200.0     90.0      87.0\n",
      "2023-11-21           13.0      4.0       7.0\n",
      "2023-11-22            1.0      0.0       0.0\n",
      "2023-11-23            3.0      5.0       2.0\n",
      "2023-11-24            1.0      0.0       0.0\n"
     ]
    }
   ],
   "source": [
    "grouped_date_df = df.groupby(['Date', 'Sentiment Label']).size().reset_index(name='Frequency')\n",
    "print(grouped_date_df)\n",
    "\n",
    "pivot_date_df = grouped_date_df.pivot(index='Date', columns='Sentiment Label', values='Frequency').fillna(0)\n",
    "print(pivot_date_df)"
   ]
  },
  {
   "cell_type": "markdown",
   "id": "07949714",
   "metadata": {},
   "source": [
    "## Comments over time "
   ]
  },
  {
   "cell_type": "code",
   "execution_count": 19,
   "id": "e83d21ee",
   "metadata": {},
   "outputs": [
    {
     "data": {
      "image/png": "[encoded data removed]",
      "text/plain": [
       "<Figure size 640x480 with 1 Axes>"
      ]
     },
     "metadata": {},
     "output_type": "display_data"
    }
   ],
   "source": [
    "date_frequencies = pivot_date_df.sum(axis=1)\n",
    "\n",
    "# Plotting the frequency graph of dates\n",
    "plt.plot(date_frequencies.index, date_frequencies, marker='o', label='Total Frequency')\n",
    "\n",
    "# Add labels and title\n",
    "plt.xlabel('Date')\n",
    "plt.ylabel('Total Frequency')\n",
    "plt.title('Comments over dates')\n",
    "\n",
    "plt.legend()\n",
    "plt.savefig('Comments over date.png')\n",
    "\n",
    "plt.show()"
   ]
  },
  {
   "cell_type": "markdown",
   "id": "f2e23691",
   "metadata": {},
   "source": [
    "## Sentiments over time"
   ]
  },
  {
   "cell_type": "code",
   "execution_count": 20,
   "id": "48edbe0d",
   "metadata": {},
   "outputs": [
    {
     "data": {
      "image/png": "[encoded data removed]",
      "text/plain": [
       "<Figure size 640x480 with 1 Axes>"
      ]
     },
     "metadata": {},
     "output_type": "display_data"
    }
   ],
   "source": [
    "plt.plot(pivot_date_df.index, pivot_date_df['Positive'], marker='o', label='Positive', color = Labels_colors['Positive'])\n",
    "\n",
    "plt.xlabel('Date')\n",
    "plt.ylabel('Frequency')\n",
    "plt.title('Positive sentiments over date')\n",
    "\n",
    "plt.legend()\n",
    "plt.savefig('Positive sentiments over date.png')\n",
    "\n",
    "plt.show()"
   ]
  },
  {
   "cell_type": "code",
   "execution_count": 21,
   "id": "bbd03e9b",
   "metadata": {},
   "outputs": [
    {
     "data": {
      "image/png": "[encoded data removed]",
      "text/plain": [
       "<Figure size 640x480 with 1 Axes>"
      ]
     },
     "metadata": {},
     "output_type": "display_data"
    }
   ],
   "source": [
    "plt.plot(pivot_date_df.index, pivot_date_df['Neutral'], marker='o', label='Neutral', color = Labels_colors['Neutral'])\n",
    "\n",
    "plt.xlabel('Date')\n",
    "plt.ylabel('Frequency')\n",
    "plt.title('Neutral sentiments over date')\n",
    "\n",
    "plt.legend()\n",
    "plt.savefig('Neutral sentiments over date.png')\n",
    "\n",
    "plt.show()"
   ]
  },
  {
   "cell_type": "code",
   "execution_count": 22,
   "id": "4ffd9cf1",
   "metadata": {},
   "outputs": [
    {
     "data": {
      "image/png": "[encoded data removed]",
      "text/plain": [
       "<Figure size 640x480 with 1 Axes>"
      ]
     },
     "metadata": {},
     "output_type": "display_data"
    }
   ],
   "source": [
    "plt.plot(pivot_date_df.index, pivot_date_df['Negative'], marker='o', label='Negative', color = Labels_colors['Negative'])\n",
    "\n",
    "plt.xlabel('Date')\n",
    "plt.ylabel('Frequency')\n",
    "plt.title('Negative sentiments over date')\n",
    "\n",
    "plt.legend()\n",
    "plt.savefig('Negative sentiments over date.png')\n",
    "\n",
    "plt.show()"
   ]
  },
  {
   "cell_type": "code",
   "execution_count": 23,
   "id": "b59f6b9b",
   "metadata": {},
   "outputs": [
    {
     "data": {
      "image/png": "[encoded data removed]",
      "text/plain": [
       "<Figure size 1000x400 with 1 Axes>"
      ]
     },
     "metadata": {},
     "output_type": "display_data"
    }
   ],
   "source": [
    "plt.figure(figsize=(10,4))\n",
    "\n",
    "for label in Labels_names:\n",
    "    plt.plot(pivot_date_df.index, pivot_date_df[label], marker='o', label=label, color = Labels_colors[label])\n",
    "\n",
    "\n",
    "plt.xlabel('Date')\n",
    "plt.ylabel('Frequency')\n",
    "plt.title('Line Graph of Label Frequencies Over Time')\n",
    "\n",
    "plt.legend()\n",
    "plt.savefig('Line Graph of Label Frequencies Over Time.png')\n",
    "\n",
    "plt.show()"
   ]
  },
  {
   "cell_type": "markdown",
   "id": "de964d58",
   "metadata": {},
   "source": [
    "## Top 5 comments for each sentiment, on the basis of likes"
   ]
  },
  {
   "cell_type": "code",
   "execution_count": 24,
   "id": "745b881a",
   "metadata": {
    "scrolled": true
   },
   "outputs": [
    {
     "data": {
      "text/html": [
       "<div>\n",
       "<style scoped>\n",
       "    .dataframe tbody tr th:only-of-type {\n",
       "        vertical-align: middle;\n",
       "    }\n",
       "\n",
       "    .dataframe tbody tr th {\n",
       "        vertical-align: top;\n",
       "    }\n",
       "\n",
       "    .dataframe thead th {\n",
       "        text-align: right;\n",
       "    }\n",
       "</style>\n",
       "<table border=\"1\" class=\"dataframe\">\n",
       "  <thead>\n",
       "    <tr style=\"text-align: right;\">\n",
       "      <th></th>\n",
       "      <th>Date</th>\n",
       "      <th>Author</th>\n",
       "      <th>Comment</th>\n",
       "      <th>Likes</th>\n",
       "      <th>Sentiment Label</th>\n",
       "      <th>Sentiment Score</th>\n",
       "    </tr>\n",
       "  </thead>\n",
       "  <tbody>\n",
       "    <tr>\n",
       "      <th>311</th>\n",
       "      <td>2023-11-20</td>\n",
       "      <td>Ikechukwu Okafor</td>\n",
       "      <td>You can't verify Israel's videos but you can v...</td>\n",
       "      <td>94</td>\n",
       "      <td>Positive</td>\n",
       "      <td>0.6237</td>\n",
       "    </tr>\n",
       "    <tr>\n",
       "      <th>452</th>\n",
       "      <td>2023-11-19</td>\n",
       "      <td>Lixin Wang</td>\n",
       "      <td>Hope the hostages be back to their family safe...</td>\n",
       "      <td>84</td>\n",
       "      <td>Positive</td>\n",
       "      <td>0.4767</td>\n",
       "    </tr>\n",
       "    <tr>\n",
       "      <th>441</th>\n",
       "      <td>2023-11-19</td>\n",
       "      <td>Sol Schwarz</td>\n",
       "      <td>If it's a clip which benefits Israel BBC can't...</td>\n",
       "      <td>38</td>\n",
       "      <td>Positive</td>\n",
       "      <td>0.5574</td>\n",
       "    </tr>\n",
       "    <tr>\n",
       "      <th>368</th>\n",
       "      <td>2023-11-20</td>\n",
       "      <td>think positive</td>\n",
       "      <td>The world needs peace for the Middle East , Uk...</td>\n",
       "      <td>26</td>\n",
       "      <td>Positive</td>\n",
       "      <td>0.5423</td>\n",
       "    </tr>\n",
       "    <tr>\n",
       "      <th>420</th>\n",
       "      <td>2023-11-19</td>\n",
       "      <td>Jessica Palmer</td>\n",
       "      <td>Absolutely heartbreaking 💔 Ceasefire Now 🙏♥️ S...</td>\n",
       "      <td>20</td>\n",
       "      <td>Positive</td>\n",
       "      <td>0.2844</td>\n",
       "    </tr>\n",
       "  </tbody>\n",
       "</table>\n",
       "</div>"
      ],
      "text/plain": [
       "           Date            Author  \\\n",
       "311  2023-11-20  Ikechukwu Okafor   \n",
       "452  2023-11-19        Lixin Wang   \n",
       "441  2023-11-19       Sol Schwarz   \n",
       "368  2023-11-20    think positive   \n",
       "420  2023-11-19    Jessica Palmer   \n",
       "\n",
       "                                               Comment  Likes Sentiment Label  \\\n",
       "311  You can't verify Israel's videos but you can v...     94        Positive   \n",
       "452  Hope the hostages be back to their family safe...     84        Positive   \n",
       "441  If it's a clip which benefits Israel BBC can't...     38        Positive   \n",
       "368  The world needs peace for the Middle East , Uk...     26        Positive   \n",
       "420  Absolutely heartbreaking 💔 Ceasefire Now 🙏♥️ S...     20        Positive   \n",
       "\n",
       "     Sentiment Score  \n",
       "311           0.6237  \n",
       "452           0.4767  \n",
       "441           0.5574  \n",
       "368           0.5423  \n",
       "420           0.2844  "
      ]
     },
     "execution_count": 24,
     "metadata": {},
     "output_type": "execute_result"
    }
   ],
   "source": [
    "df_pos_likes_sorted.head()"
   ]
  },
  {
   "cell_type": "code",
   "execution_count": 25,
   "id": "6aa3e994",
   "metadata": {},
   "outputs": [
    {
     "data": {
      "text/html": [
       "<div>\n",
       "<style scoped>\n",
       "    .dataframe tbody tr th:only-of-type {\n",
       "        vertical-align: middle;\n",
       "    }\n",
       "\n",
       "    .dataframe tbody tr th {\n",
       "        vertical-align: top;\n",
       "    }\n",
       "\n",
       "    .dataframe thead th {\n",
       "        text-align: right;\n",
       "    }\n",
       "</style>\n",
       "<table border=\"1\" class=\"dataframe\">\n",
       "  <thead>\n",
       "    <tr style=\"text-align: right;\">\n",
       "      <th></th>\n",
       "      <th>Date</th>\n",
       "      <th>Author</th>\n",
       "      <th>Comment</th>\n",
       "      <th>Likes</th>\n",
       "      <th>Sentiment Label</th>\n",
       "      <th>Sentiment Score</th>\n",
       "    </tr>\n",
       "  </thead>\n",
       "  <tbody>\n",
       "    <tr>\n",
       "      <th>257</th>\n",
       "      <td>2023-11-20</td>\n",
       "      <td>Mario T</td>\n",
       "      <td>Can the BBC reporter go down the tunnel shaft ...</td>\n",
       "      <td>53</td>\n",
       "      <td>Neutral</td>\n",
       "      <td>0.000</td>\n",
       "    </tr>\n",
       "    <tr>\n",
       "      <th>451</th>\n",
       "      <td>2023-11-19</td>\n",
       "      <td>cento</td>\n",
       "      <td>So touching 😢</td>\n",
       "      <td>17</td>\n",
       "      <td>Neutral</td>\n",
       "      <td>0.000</td>\n",
       "    </tr>\n",
       "    <tr>\n",
       "      <th>310</th>\n",
       "      <td>2023-11-20</td>\n",
       "      <td>Ck</td>\n",
       "      <td>Those people should protest to Hamas and not i...</td>\n",
       "      <td>17</td>\n",
       "      <td>Neutral</td>\n",
       "      <td>-0.128</td>\n",
       "    </tr>\n",
       "    <tr>\n",
       "      <th>162</th>\n",
       "      <td>2023-11-20</td>\n",
       "      <td>Anthony Bernstein</td>\n",
       "      <td>Well done BBC, the sweet dulcet tones from a r...</td>\n",
       "      <td>15</td>\n",
       "      <td>Neutral</td>\n",
       "      <td>0.128</td>\n",
       "    </tr>\n",
       "    <tr>\n",
       "      <th>463</th>\n",
       "      <td>2023-11-19</td>\n",
       "      <td>R8 V10</td>\n",
       "      <td>When will there be a deal to release the 6000 ...</td>\n",
       "      <td>15</td>\n",
       "      <td>Neutral</td>\n",
       "      <td>0.000</td>\n",
       "    </tr>\n",
       "  </tbody>\n",
       "</table>\n",
       "</div>"
      ],
      "text/plain": [
       "           Date             Author  \\\n",
       "257  2023-11-20            Mario T   \n",
       "451  2023-11-19              cento   \n",
       "310  2023-11-20                 Ck   \n",
       "162  2023-11-20  Anthony Bernstein   \n",
       "463  2023-11-19             R8 V10   \n",
       "\n",
       "                                               Comment  Likes Sentiment Label  \\\n",
       "257  Can the BBC reporter go down the tunnel shaft ...     53         Neutral   \n",
       "451                                      So touching 😢     17         Neutral   \n",
       "310  Those people should protest to Hamas and not i...     17         Neutral   \n",
       "162  Well done BBC, the sweet dulcet tones from a r...     15         Neutral   \n",
       "463  When will there be a deal to release the 6000 ...     15         Neutral   \n",
       "\n",
       "     Sentiment Score  \n",
       "257            0.000  \n",
       "451            0.000  \n",
       "310           -0.128  \n",
       "162            0.128  \n",
       "463            0.000  "
      ]
     },
     "execution_count": 25,
     "metadata": {},
     "output_type": "execute_result"
    }
   ],
   "source": [
    "df_ntl_likes_sorted.head()"
   ]
  },
  {
   "cell_type": "code",
   "execution_count": 26,
   "id": "bed86f67",
   "metadata": {},
   "outputs": [
    {
     "data": {
      "text/html": [
       "<div>\n",
       "<style scoped>\n",
       "    .dataframe tbody tr th:only-of-type {\n",
       "        vertical-align: middle;\n",
       "    }\n",
       "\n",
       "    .dataframe tbody tr th {\n",
       "        vertical-align: top;\n",
       "    }\n",
       "\n",
       "    .dataframe thead th {\n",
       "        text-align: right;\n",
       "    }\n",
       "</style>\n",
       "<table border=\"1\" class=\"dataframe\">\n",
       "  <thead>\n",
       "    <tr style=\"text-align: right;\">\n",
       "      <th></th>\n",
       "      <th>Date</th>\n",
       "      <th>Author</th>\n",
       "      <th>Comment</th>\n",
       "      <th>Likes</th>\n",
       "      <th>Sentiment Label</th>\n",
       "      <th>Sentiment Score</th>\n",
       "    </tr>\n",
       "  </thead>\n",
       "  <tbody>\n",
       "    <tr>\n",
       "      <th>454</th>\n",
       "      <td>2023-11-19</td>\n",
       "      <td>YSBS1</td>\n",
       "      <td>If H A M A S stand out confronting IDF, not hi...</td>\n",
       "      <td>63</td>\n",
       "      <td>Negative</td>\n",
       "      <td>-0.7790</td>\n",
       "    </tr>\n",
       "    <tr>\n",
       "      <th>317</th>\n",
       "      <td>2023-11-20</td>\n",
       "      <td>David Ben-Abraham</td>\n",
       "      <td>All these deaths have only Hamas to blame. In ...</td>\n",
       "      <td>43</td>\n",
       "      <td>Negative</td>\n",
       "      <td>-0.9449</td>\n",
       "    </tr>\n",
       "    <tr>\n",
       "      <th>401</th>\n",
       "      <td>2023-11-20</td>\n",
       "      <td>Welsh Nick</td>\n",
       "      <td>Blame Hamas.</td>\n",
       "      <td>36</td>\n",
       "      <td>Negative</td>\n",
       "      <td>-0.3400</td>\n",
       "    </tr>\n",
       "    <tr>\n",
       "      <th>305</th>\n",
       "      <td>2023-11-20</td>\n",
       "      <td>Owen H.</td>\n",
       "      <td>So the staff at the hospital is guilty of assi...</td>\n",
       "      <td>35</td>\n",
       "      <td>Negative</td>\n",
       "      <td>-0.4215</td>\n",
       "    </tr>\n",
       "    <tr>\n",
       "      <th>262</th>\n",
       "      <td>2023-11-20</td>\n",
       "      <td>Barry Smith</td>\n",
       "      <td>Those babies are so skinny poor little things ...</td>\n",
       "      <td>34</td>\n",
       "      <td>Negative</td>\n",
       "      <td>-0.8194</td>\n",
       "    </tr>\n",
       "  </tbody>\n",
       "</table>\n",
       "</div>"
      ],
      "text/plain": [
       "           Date             Author  \\\n",
       "454  2023-11-19              YSBS1   \n",
       "317  2023-11-20  David Ben-Abraham   \n",
       "401  2023-11-20         Welsh Nick   \n",
       "305  2023-11-20            Owen H.   \n",
       "262  2023-11-20        Barry Smith   \n",
       "\n",
       "                                               Comment  Likes Sentiment Label  \\\n",
       "454  If H A M A S stand out confronting IDF, not hi...     63        Negative   \n",
       "317  All these deaths have only Hamas to blame. In ...     43        Negative   \n",
       "401                                       Blame Hamas.     36        Negative   \n",
       "305  So the staff at the hospital is guilty of assi...     35        Negative   \n",
       "262  Those babies are so skinny poor little things ...     34        Negative   \n",
       "\n",
       "     Sentiment Score  \n",
       "454          -0.7790  \n",
       "317          -0.9449  \n",
       "401          -0.3400  \n",
       "305          -0.4215  \n",
       "262          -0.8194  "
      ]
     },
     "execution_count": 26,
     "metadata": {},
     "output_type": "execute_result"
    }
   ],
   "source": [
    "df_neg_likes_sorted.head()"
   ]
  },
  {
   "cell_type": "markdown",
   "id": "5ce2513e",
   "metadata": {},
   "source": [
    "# Report Generation"
   ]
  },
  {
   "cell_type": "code",
   "execution_count": 27,
   "id": "ff27bb41",
   "metadata": {},
   "outputs": [],
   "source": [
    "from docx import Document\n",
    "from docx.shared import Inches, Pt\n",
    "from docx.oxml import OxmlElement"
   ]
  },
  {
   "cell_type": "code",
   "execution_count": 28,
   "id": "d7e576ad",
   "metadata": {},
   "outputs": [],
   "source": [
    "doc = Document()\n",
    "\n",
    "doc.add_heading('Sentiment Analysis Report', level=1)\n",
    "\n",
    "sections = doc.sections\n",
    "for section in sections:\n",
    "    section.left_margin = Inches(0.5)   # Adjust the left margin\n",
    "    section.right_margin = Inches(0.5)  # Adjust the right margin\n",
    "    section.top_margin = Inches(0.5)    # Adjust the top margin\n",
    "    section.bottom_margin = Inches(0.5) # Adjust the bottom margin\n",
    "\n",
    "# Video details\n",
    "doc.add_heading('Video details', level=2)\n",
    "p1 = doc.add_paragraph()\n",
    "p1.add_run(f\"\\n\\t• Title:  {video_details['title']}\")\n",
    "p1.add_run(f\"\\n\\t• Channel:  {video_details['channel_title']}\")\n",
    "p1.add_run(f\"\\n\\t• Uploaded on:  {video_details['upload_date']}\")\n",
    "p1.add_run(f\"\\n\\t• Views:  {video_details['view_count']}\")\n",
    "p1.add_run(f\"\\n\\t• Likes:  {video_details['like_count']}\")\n",
    "p1.add_run(f\"\\n\\t• Comments:  {video_details['comment_count']}\")\n",
    "p1.add_run(f\"\\n\\t• Comments extracted:  {extracted_count}\")\n",
    "\n",
    "\n",
    "# Sentiments Labels and scores info\n",
    "doc.add_heading('Sentiments Labels and scores info', level=2)\n",
    "p2 = doc.add_paragraph()\n",
    "p2.add_run(\"\\n\\t• Positive: \").bold = True\n",
    "p2.add_run(\"Score >= 0.2\")\n",
    "p2.add_run(\"\\n\\t• Neutral: \").bold = True\n",
    "p2.add_run(\"0.2 > Score > -0.2\")\n",
    "p2.add_run(\"\\n\\t• Negative: \").bold = True\n",
    "p2.add_run(\"-0.2 >= Score\")\n",
    "\n",
    "\n",
    "# Sentiments Frequency\n",
    "a = str(dic1['Positive'])\n",
    "b = str(dic1['Neutral'])\n",
    "c = str(dic1['Negative'])\n",
    "\n",
    "doc.add_heading('Sentiments Frequency', level=2)\n",
    "p3 = doc.add_paragraph()\n",
    "p3.add_run(\"\\n\\t• Positive: \").bold = True\n",
    "p3.add_run(a)\n",
    "p3.add_run(\"\\n\\t• Neutral: \").bold = True\n",
    "p3.add_run(b)\n",
    "p3.add_run(\"\\n\\t• Negative: \").bold = True\n",
    "p3.add_run(c)\n",
    "\n",
    "\n",
    "# Sentiments frequency plot\n",
    "doc.add_heading('Sentiments Frequency plot', level=2)\n",
    "p4 = doc.add_paragraph()\n",
    "p4.add_run(\"1. Plot on the basis of sentiment labels\\n\").bold = True\n",
    "p4.alignment = 0\n",
    "\n",
    "p5 = doc.add_paragraph()\n",
    "p5.add_run().add_picture(\"Sentiments labels plot.png\", width=Inches(2.4), height=Inches(3.2))\n",
    "p5.alignment = 1\n",
    "\n",
    "p6 = doc.add_paragraph()\n",
    "p6.add_run(\"\\n2. Plot on the basis of sentiment scores\\n\").bold = True\n",
    "p6.alignment = 0\n",
    "\n",
    "p7 = doc.add_paragraph()\n",
    "p7.add_run().add_picture(\"Sentiments score plot.png\", width=Inches(6.2), height=Inches(3.1))\n",
    "p7.alignment = 1\n",
    "\n",
    "\n",
    "# Top comments by score, for each sentiment\n",
    "doc.add_heading('Top comments for each sentiment, by score', level=2)\n",
    "# Positive\n",
    "dfp1 = df_pos_sorted[['Author', 'Comment', 'Sentiment Score']].head()\n",
    "p8 = doc.add_paragraph()\n",
    "p8.add_run(\"1. Positive\\n\").bold = True\n",
    "table = doc.add_table(rows=dfp1.shape[0] + 1, cols=dfp1.shape[1])\n",
    "for col, column_name in enumerate(dfp1.columns):\n",
    "    table.cell(0, col).text = column_name\n",
    "for row in range(dfp1.shape[0]):\n",
    "    for col in range(dfp1.shape[1]):\n",
    "        table.cell(row + 1, col).text = str(dfp1.iloc[row, col])\n",
    "p8.add_run(\"\\n\")\n",
    "\n",
    "# Neutral\n",
    "dfnu1 = df_ntl_sorted[['Author', 'Comment', 'Sentiment Score']].head()\n",
    "p9 = doc.add_paragraph()\n",
    "p9.add_run(\"\\n2. Neutral\\n\").bold = True\n",
    "table = doc.add_table(rows=dfnu1.shape[0] + 1, cols=dfnu1.shape[1])\n",
    "for col, column_name in enumerate(dfnu1.columns):\n",
    "    table.cell(0, col).text = column_name\n",
    "for row in range(dfnu1.shape[0]):\n",
    "    for col in range(dfnu1.shape[1]):\n",
    "        table.cell(row + 1, col).text = str(dfnu1.iloc[row, col])\n",
    "\n",
    "\n",
    "# Negative\n",
    "dfne1 = df_neg_sorted[['Author', 'Comment', 'Sentiment Score']].head()\n",
    "p10 = doc.add_paragraph()\n",
    "p10.add_run(\"\\n3. Negative\\n\").bold = True\n",
    "table = doc.add_table(rows=dfne1.shape[0] + 1, cols=dfne1.shape[1])\n",
    "for col, column_name in enumerate(dfne1.columns):\n",
    "    table.cell(0, col).text = column_name\n",
    "for row in range(dfne1.shape[0]):\n",
    "    for col in range(dfne1.shape[1]):\n",
    "        table.cell(row + 1, col).text = str(dfne1.iloc[row, col])\n",
    "\n",
    "\n",
    "# Comments over dates\n",
    "doc.add_heading('Comments posted over dates', level=2)\n",
    "p11 = doc.add_paragraph()\n",
    "p11.add_run().add_picture(\"Comments over date.png\")\n",
    "p11.alignment = 1\n",
    "\n",
    "\n",
    "# Sentiments and date distribution\n",
    "doc.add_heading('Sentiments and date distribution', level=2)\n",
    "\n",
    "p18 = doc.add_paragraph()\n",
    "table = doc.add_table(rows=grouped_date_df.shape[0] + 1, cols=grouped_date_df.shape[1])\n",
    "for col, column_name in enumerate(grouped_date_df.columns):\n",
    "    table.cell(0, col).text = column_name\n",
    "for row in range(grouped_date_df.shape[0]):\n",
    "    for col in range(grouped_date_df.shape[1]):\n",
    "        table.cell(row + 1, col).text = str(grouped_date_df.iloc[row, col])\n",
    "\n",
    "p18.add_run(\"\\n\")\n",
    "\n",
    "\n",
    "# Comments over dates, sentiment wise\n",
    "doc.add_heading('Comments posted over dates, sentiment wise', level=2)\n",
    "p12 = doc.add_paragraph()\n",
    "p12.add_run(\"1. Positive\").bold = True\n",
    "p12.alignment = 0\n",
    "\n",
    "p13 = doc.add_paragraph()\n",
    "p13.add_run().add_picture(\"Positive sentiments over date.png\", width=Inches(5.0), height=Inches(3.8))\n",
    "p13.alignment = 1\n",
    "\n",
    "p14 = doc.add_paragraph()\n",
    "p14.add_run(\"\\n2. Neutral\").bold = True\n",
    "p14.alignment = 0\n",
    "\n",
    "p15 = doc.add_paragraph()\n",
    "p15.add_run().add_picture(\"Neutral sentiments over date.png\", width=Inches(5.0), height=Inches(3.8))\n",
    "p15.alignment = 1\n",
    "\n",
    "p16 = doc.add_paragraph()\n",
    "p16.add_run(\"\\n3. Negative\").bold = True\n",
    "p16.alignment = 0\n",
    "\n",
    "p17 = doc.add_paragraph()\n",
    "p17.add_run().add_picture(\"Negative sentiments over date.png\", width=Inches(5.0), height=Inches(3.8))\n",
    "p17.alignment = 1\n",
    "\n",
    "\n",
    "# Comments over dates, sentiment wise, combined\n",
    "doc.add_heading('Comments posted over dates, sentiment wise, combined', level=2)\n",
    "\n",
    "p19 = doc.add_paragraph()\n",
    "p19.add_run().add_picture(\"Line Graph of Label Frequencies Over Time.png\", width=Inches(7.2), height=Inches(2.9))\n",
    "p19.alignment = 1\n",
    "\n",
    "\n",
    "doc.save('Sentiment Analysis Report.docx')"
   ]
  },
  {
   "cell_type": "markdown",
   "id": "ea05254e",
   "metadata": {},
   "source": [
    "## Convert to PDF"
   ]
  },
  {
   "cell_type": "code",
   "execution_count": 29,
   "id": "872191e4",
   "metadata": {},
   "outputs": [],
   "source": [
    "from docx2pdf import convert"
   ]
  },
  {
   "cell_type": "code",
   "execution_count": 30,
   "id": "1a09d422",
   "metadata": {},
   "outputs": [
    {
     "data": {
      "application/vnd.jupyter.widget-view+json": {
       "model_id": "4b07a3b57bf943d2891227097a4ad2e3",
       "version_major": 2,
       "version_minor": 0
      },
      "text/plain": [
       "  0%|          | 0/1 [00:00<?, ?it/s]"
      ]
     },
     "metadata": {},
     "output_type": "display_data"
    }
   ],
   "source": [
    "docx_file_path = 'Sentiment Analysis Report.docx'\n",
    "\n",
    "pdf_file_path = 'Sentiment Analysis Report.pdf'\n",
    "\n",
    "convert(docx_file_path, pdf_file_path)"
   ]
  },
  {
   "cell_type": "code",
   "execution_count": null,
   "id": "6faa42af",
   "metadata": {},
   "outputs": [],
   "source": []
  }
 ],
 "metadata": {
  "kernelspec": {
   "display_name": "Python 3 (ipykernel)",
   "language": "python",
   "name": "python3"
  },
  "language_info": {
   "codemirror_mode": {
    "name": "ipython",
    "version": 3
   },
   "file_extension": ".py",
   "mimetype": "text/x-python",
   "name": "python",
   "nbconvert_exporter": "python",
   "pygments_lexer": "ipython3",
   "version": "3.11.5"
  }
 },
 "nbformat": 4,
 "nbformat_minor": 5
}
